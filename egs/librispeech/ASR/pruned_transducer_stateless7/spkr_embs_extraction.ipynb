{
 "cells": [
  {
   "cell_type": "code",
   "execution_count": 23,
   "metadata": {},
   "outputs": [],
   "source": [
    "import os\n",
    "import glob\n",
    "import torch\n",
    "import torchaudio\n",
    "from tqdm import tqdm\n",
    "from emb_demixing.speaker_extractor import SPEAKER_EMBEDDING_TEACHER"
   ]
  },
  {
   "cell_type": "code",
   "execution_count": 8,
   "metadata": {},
   "outputs": [],
   "source": [
    "train_100_s1 = glob.glob('/home/djlee/database/Libri2Mix/wav16k/max/train-100/s1/*.wav')\n",
    "train_100_s2 = glob.glob('/home/djlee/database/Libri2Mix/wav16k/max/train-100/s2/*.wav')\n",
    "train_360_s1 = glob.glob('/home/djlee/database/Libri2Mix/wav16k/max/train-360/s1/*.wav')\n",
    "train_360_s2 = glob.glob('/home/djlee/database/Libri2Mix/wav16k/max/train-360/s2/*.wav')"
   ]
  },
  {
   "cell_type": "code",
   "execution_count": 9,
   "metadata": {},
   "outputs": [
    {
     "data": {
      "text/plain": [
       "(13900, 13900, 50800, 50800)"
      ]
     },
     "execution_count": 9,
     "metadata": {},
     "output_type": "execute_result"
    }
   ],
   "source": [
    "len(train_100_s1), len(train_100_s2), len(train_360_s1), len(train_360_s2)"
   ]
  },
  {
   "cell_type": "code",
   "execution_count": 10,
   "metadata": {},
   "outputs": [],
   "source": [
    "all_files = train_100_s1 + train_100_s2 + train_360_s1 + train_360_s2"
   ]
  },
  {
   "cell_type": "code",
   "execution_count": 20,
   "metadata": {},
   "outputs": [],
   "source": [
    "file_save_path = '/home/djlee/database/Libri2Mix_train_spk_emb/max'"
   ]
  },
  {
   "cell_type": "code",
   "execution_count": 22,
   "metadata": {},
   "outputs": [
    {
     "name": "stdout",
     "output_type": "stream",
     "text": [
      "!!! TEACHER MODEL LOADED !!!\n"
     ]
    }
   ],
   "source": [
    "m = SPEAKER_EMBEDDING_TEACHER()\n",
    "m = m.cuda()\n",
    "m = m.eval()"
   ]
  },
  {
   "cell_type": "code",
   "execution_count": 26,
   "metadata": {},
   "outputs": [
    {
     "name": "stdout",
     "output_type": "stream",
     "text": [
      "!!! torch.Size([1, 192])\n"
     ]
    }
   ],
   "source": [
    "for file in all_files:\n",
    "    file_name = file.split('max')[-1]#.split('.')[1]\n",
    "    file_path = file_save_path + os.path.splitext(file_name)[0] + '.pt'\n",
    "\n",
    "    wav, _ = torchaudio.load(file)\n",
    "    wav = wav.cuda()\n",
    "    embs = m(wav)\n",
    "    embs = embs.cpu().detach()\n",
    "    torch.save(embs, file_path)\n",
    "    print(\"!!!\", embs.shape)\n",
    "    break\n"
   ]
  },
  {
   "cell_type": "code",
   "execution_count": null,
   "metadata": {},
   "outputs": [],
   "source": [
    "def emb_extractor():\n",
    "\n",
    "    train_100_s1 = glob.glob('/home/djlee/database/Libri2Mix/wav16k/max/train-100/s1/*.wav')\n",
    "    train_100_s2 = glob.glob('/home/djlee/database/Libri2Mix/wav16k/max/train-100/s2/*.wav')\n",
    "    train_360_s1 = glob.glob('/home/djlee/database/Libri2Mix/wav16k/max/train-360/s1/*.wav')\n",
    "    train_360_s2 = glob.glob('/home/djlee/database/Libri2Mix/wav16k/max/train-360/s2/*.wav')\n",
    "\n",
    "    print(\"!!! # files: \", len(train_100_s1), len(train_100_s2), len(train_360_s1), len(train_360_s2))\n",
    "\n",
    "    all_files = train_100_s1 + train_100_s2 + train_360_s1 + train_360_s2\n",
    "\n",
    "    print(\"!!! Total files: \", len(all_files))\n",
    "    file_save_path = '/home/djlee/database/Libri2Mix_train_spk_emb/max'\n",
    "\n",
    "    m = SPEAKER_EMBEDDING_TEACHER()\n",
    "    m = m.cuda()\n",
    "    m = m.eval()\n",
    "    \n",
    "    for file in tqdm(all_files):\n",
    "        file_name = file.split('max')[-1]\n",
    "        file_path = file_save_path + os.path.splitext(file_name)[0] + '.pt'\n",
    "\n",
    "        wav, _ = torchaudio.load(file)\n",
    "        wav = wav.cuda()\n",
    "        embs = m(wav)\n",
    "        embs = embs.cpu().detach()\n",
    "        torch.save(embs, file_path)\n",
    "\n"
   ]
  },
  {
   "cell_type": "code",
   "execution_count": null,
   "metadata": {},
   "outputs": [],
   "source": [
    "if __name__ == '__main__':\n",
    "    emb_extractor()\n",
    "    "
   ]
  }
 ],
 "metadata": {
  "kernelspec": {
   "display_name": "emb_demix",
   "language": "python",
   "name": "python3"
  },
  "language_info": {
   "codemirror_mode": {
    "name": "ipython",
    "version": 3
   },
   "file_extension": ".py",
   "mimetype": "text/x-python",
   "name": "python",
   "nbconvert_exporter": "python",
   "pygments_lexer": "ipython3",
   "version": "3.9.16"
  },
  "orig_nbformat": 4,
  "vscode": {
   "interpreter": {
    "hash": "91b93e54fe434559e2457de9e907694dc6b21dd0d7e8a01b3acf8ef4c0f5b802"
   }
  }
 },
 "nbformat": 4,
 "nbformat_minor": 2
}
