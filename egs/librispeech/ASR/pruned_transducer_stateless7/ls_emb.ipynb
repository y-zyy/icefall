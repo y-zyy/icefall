{
 "cells": [
  {
   "cell_type": "code",
   "execution_count": 1,
   "metadata": {},
   "outputs": [],
   "source": [
    "import os\n",
    "os.environ[\"CUDA_VISIBLE_DEVICES\"] = \"4\"\n",
    "import torch\n",
    "import torchaudio\n",
    "import torch.nn.functional as F\n",
    "from emb_demixing.speaker_extractor import SPEAKER_EMBEDDING\n",
    "\n",
    "from sklearn.cluster import AgglomerativeClustering\n",
    "import numpy as np"
   ]
  },
  {
   "cell_type": "code",
   "execution_count": 2,
   "metadata": {},
   "outputs": [
    {
     "name": "stdout",
     "output_type": "stream",
     "text": [
      "!!! STUDENT MODEL LOADED !!! from:  /home/djlee/emb_demixing/save/exp_1/model/model000000623.model\n"
     ]
    }
   ],
   "source": [
    "spkr_extractor = SPEAKER_EMBEDDING()\n",
    "spkr_extractor = spkr_extractor.cuda()\n",
    "spkr_extractor = spkr_extractor.eval()"
   ]
  },
  {
   "cell_type": "code",
   "execution_count": 3,
   "metadata": {},
   "outputs": [],
   "source": [
    "wav_files_iter = torch.load('/home/djlee/LibriMix/files/dev_mix_clean_files.pt')"
   ]
  },
  {
   "cell_type": "code",
   "execution_count": 4,
   "metadata": {},
   "outputs": [
    {
     "data": {
      "text/plain": [
       "['/home/djlee/database/Libri2Mix/wav16k/max/dev/mix_clean/3081-166546-0081_2277-149896-0026.wav',\n",
       " '/home/djlee/database/Libri2Mix/wav16k/max/dev/mix_clean/2086-149220-0004_777-126732-0075.wav',\n",
       " '/home/djlee/database/Libri2Mix/wav16k/max/dev/mix_clean/5895-34615-0013_6313-76958-0018.wav',\n",
       " '/home/djlee/database/Libri2Mix/wav16k/max/dev/mix_clean/422-122949-0018_6345-64257-0000.wav',\n",
       " '/home/djlee/database/Libri2Mix/wav16k/max/dev/mix_clean/2035-147960-0014_174-84280-0013.wav',\n",
       " '/home/djlee/database/Libri2Mix/wav16k/max/dev/mix_clean/3000-15664-0007_6295-64301-0014.wav',\n",
       " '/home/djlee/database/Libri2Mix/wav16k/max/dev/mix_clean/6313-76958-0011_5338-24640-0003.wav',\n",
       " '/home/djlee/database/Libri2Mix/wav16k/max/dev/mix_clean/7850-73752-0019_8297-275155-0007.wav',\n",
       " '/home/djlee/database/Libri2Mix/wav16k/max/dev/mix_clean/652-129742-0005_174-50561-0013.wav',\n",
       " '/home/djlee/database/Libri2Mix/wav16k/max/dev/mix_clean/6345-93306-0005_422-122949-0012.wav']"
      ]
     },
     "execution_count": 4,
     "metadata": {},
     "output_type": "execute_result"
    }
   ],
   "source": [
    "wav_files_iter[:10]"
   ]
  },
  {
   "cell_type": "code",
   "execution_count": 5,
   "metadata": {},
   "outputs": [],
   "source": [
    "'''\n",
    "for i, file in enumerate(wav_files_iter):\n",
    "    print(file)\n",
    "    mixed_wav, _ = torchaudio.load(file)\n",
    "    num_segs = mixed_wav.shape[-1]//16000\n",
    "    minimum = 1\n",
    "    partial_embs = []\n",
    "    index = 0\n",
    "\n",
    "    for i in range(num_segs-1):\n",
    "        emb_a, emb_b = spkr_extractor(mixed_wav[:, i*16000: i*16000+32000].cuda(), iter=True)\n",
    "        #print(\"{:.4f}\".format(F.cosine_similarity(emb_a, emb_b, dim=1).cpu().detach().item()))\n",
    "        partial_embs.append(emb_a.cpu().detach().numpy())\n",
    "        partial_embs.append(emb_b.cpu().detach().numpy())\n",
    "\n",
    "    break\n",
    "'''\n",
    "file ='/home/djlee/database/Libri2Mix/wav16k/max/dev/mix_clean/652-129742-0005_174-50561-0013.wav'\n",
    "mixed_wav, _ = torchaudio.load(file)\n",
    "num_segs = mixed_wav.shape[-1]//16000\n",
    "minimum = 1\n",
    "partial_embs = []\n",
    "index = 0\n",
    "\n",
    "for i in range(num_segs-1):\n",
    "    emb_a, emb_b = spkr_extractor(mixed_wav[:, i*16000: i*16000+32000].cuda(), iter=True)\n",
    "    #print(\"{:.4f}\".format(F.cosine_similarity(emb_a, emb_b, dim=1).cpu().detach().item()))\n",
    "    partial_embs.append(emb_a.cpu().detach().numpy())\n",
    "    partial_embs.append(emb_b.cpu().detach().numpy())"
   ]
  },
  {
   "cell_type": "code",
   "execution_count": 6,
   "metadata": {},
   "outputs": [
    {
     "data": {
      "text/plain": [
       "(18, 192)"
      ]
     },
     "execution_count": 6,
     "metadata": {},
     "output_type": "execute_result"
    }
   ],
   "source": [
    "partial_embs = np.array(partial_embs).squeeze(1)\n",
    "partial_embs.shape"
   ]
  },
  {
   "cell_type": "code",
   "execution_count": 18,
   "metadata": {},
   "outputs": [],
   "source": [
    "from sklearn.cluster import AgglomerativeClustering\n",
    "clustering = AgglomerativeClustering(metric='cosine',linkage='average').fit(partial_embs)\n",
    "labels = clustering.labels_"
   ]
  },
  {
   "cell_type": "code",
   "execution_count": 19,
   "metadata": {},
   "outputs": [
    {
     "data": {
      "text/plain": [
       "array([0, 0, 0, 1, 0, 1, 0, 0, 0, 1, 0, 1, 0, 0, 0, 0, 0, 0])"
      ]
     },
     "execution_count": 19,
     "metadata": {},
     "output_type": "execute_result"
    }
   ],
   "source": [
    "labels"
   ]
  },
  {
   "cell_type": "code",
   "execution_count": 16,
   "metadata": {},
   "outputs": [],
   "source": [
    "from sklearn.cluster import SpectralClustering\n",
    "\n",
    "sc_cluster = SpectralClustering(n_clusters=2, affinity='nearest_neighbors',\\\n",
    "                                eigen_solver='amg', eigen_tol=1e-10, random_state=0).fit(partial_embs)"
   ]
  },
  {
   "cell_type": "code",
   "execution_count": 17,
   "metadata": {},
   "outputs": [
    {
     "data": {
      "text/plain": [
       "array([0, 1, 1, 0, 0, 0, 0, 0, 0, 0, 1, 0, 1, 1, 1, 1, 1, 1], dtype=int32)"
      ]
     },
     "execution_count": 17,
     "metadata": {},
     "output_type": "execute_result"
    }
   ],
   "source": [
    "sc_cluster.labels_"
   ]
  },
  {
   "cell_type": "code",
   "execution_count": 8,
   "metadata": {},
   "outputs": [
    {
     "data": {
      "image/png": "[encoded data removed]",
      "text/plain": [
       "<Figure size 640x480 with 1 Axes>"
      ]
     },
     "metadata": {},
     "output_type": "display_data"
    }
   ],
   "source": [
    "from sklearn.manifold import TSNE\n",
    "from sklearn.cluster import KMeans\n",
    "import matplotlib.pyplot as plt\n",
    "\n",
    "n_components = 2\n",
    "model = TSNE(n_components=n_components, perplexity=5)\n",
    "kmeans = KMeans(n_clusters=2, random_state=0, n_init=\"auto\").fit(partial_embs)\n",
    "centres = kmeans.cluster_centers_\n",
    "\n",
    "all_points = np.concatenate((partial_embs, centres), axis=0)\n",
    "all_points = model.fit_transform(all_points)\n",
    "\n",
    "plt.scatter(all_points[:,0], all_points[:,1])\n",
    "plt.scatter(all_points[-2:,0], all_points[-2:,1], marker='o', c='r')\n",
    "plt.show()"
   ]
  }
 ],
 "metadata": {
  "kernelspec": {
   "display_name": "icefall_v2",
   "language": "python",
   "name": "icefall_v2"
  },
  "language_info": {
   "codemirror_mode": {
    "name": "ipython",
    "version": 3
   },
   "file_extension": ".py",
   "mimetype": "text/x-python",
   "name": "python",
   "nbconvert_exporter": "python",
   "pygments_lexer": "ipython3",
   "version": "3.8.16"
  },
  "orig_nbformat": 4
 },
 "nbformat": 4,
 "nbformat_minor": 2
}
